{
 "cells": [
  {
   "cell_type": "markdown",
   "id": "6a257acb-a09e-462f-b78f-e926360d0dd4",
   "metadata": {},
   "source": [
    "## Digit Recongnition"
   ]
  },
  {
   "cell_type": "markdown",
   "id": "d7e28c0e",
   "metadata": {},
   "source": [
    "Model takes encoded handwritting images and tries to predict the digit displayed in the picture.  Data from: https://www.kaggle.com/c/digit-recognizer"
   ]
  },
  {
   "cell_type": "markdown",
   "id": "1062f7b9-e88a-4c35-a2ef-e321f4908886",
   "metadata": {},
   "source": [
    "### Import Libraries and Data"
   ]
  },
  {
   "cell_type": "code",
   "execution_count": 44,
   "id": "b91f048f-8213-4694-b763-4cfbb84ee13b",
   "metadata": {},
   "outputs": [
    {
     "ename": "ModuleNotFoundError",
     "evalue": "No module named 'utils'",
     "output_type": "error",
     "traceback": [
      "\u001b[1;31m---------------------------------------------------------------------------\u001b[0m",
      "\u001b[1;31mModuleNotFoundError\u001b[0m                       Traceback (most recent call last)",
      "\u001b[1;32m~\\AppData\\Local\\Temp/ipykernel_15180/2630169644.py\u001b[0m in \u001b[0;36m<module>\u001b[1;34m\u001b[0m\n\u001b[0;32m      3\u001b[0m \u001b[1;32mimport\u001b[0m \u001b[0mdatetime\u001b[0m\u001b[1;33m\u001b[0m\u001b[1;33m\u001b[0m\u001b[0m\n\u001b[0;32m      4\u001b[0m \u001b[1;32mimport\u001b[0m \u001b[0mnumpy\u001b[0m \u001b[1;32mas\u001b[0m \u001b[0mnp\u001b[0m\u001b[1;33m\u001b[0m\u001b[1;33m\u001b[0m\u001b[0m\n\u001b[1;32m----> 5\u001b[1;33m \u001b[1;32mimport\u001b[0m \u001b[0mutils\u001b[0m\u001b[1;33m\u001b[0m\u001b[1;33m\u001b[0m\u001b[0m\n\u001b[0m\u001b[0;32m      6\u001b[0m \u001b[1;32mfrom\u001b[0m \u001b[0msklearn\u001b[0m\u001b[1;33m.\u001b[0m\u001b[0mpreprocessing\u001b[0m \u001b[1;32mimport\u001b[0m \u001b[0mStandardScaler\u001b[0m\u001b[1;33m\u001b[0m\u001b[1;33m\u001b[0m\u001b[0m\n\u001b[0;32m      7\u001b[0m \u001b[1;32mfrom\u001b[0m \u001b[0msklearn\u001b[0m\u001b[1;33m.\u001b[0m\u001b[0mensemble\u001b[0m \u001b[1;32mimport\u001b[0m \u001b[0mRandomForestClassifier\u001b[0m\u001b[1;33m\u001b[0m\u001b[1;33m\u001b[0m\u001b[0m\n",
      "\u001b[1;31mModuleNotFoundError\u001b[0m: No module named 'utils'"
     ]
    }
   ],
   "source": [
    "#loading libraries\n",
    "import pandas as pd\n",
    "import datetime\n",
    "import numpy as np\n",
    "from sklearn.preprocessing import StandardScaler\n",
    "from sklearn.ensemble import RandomForestClassifier\n",
    "from sklearn.model_selection import RepeatedStratifiedKFold\n",
    "from sklearn.model_selection import train_test_split\n",
    "from sklearn.model_selection import RandomizedSearchCV\n",
    "from sklearn.decomposition import PCA\n",
    "from sklearn.cluster import KMeans"
   ]
  },
  {
   "cell_type": "code",
   "execution_count": 2,
   "id": "a630e009-17af-42ab-b92a-c0ab7edb5482",
   "metadata": {},
   "outputs": [
    {
     "name": "stdout",
     "output_type": "stream",
     "text": [
      "(42000, 785)\n"
     ]
    }
   ],
   "source": [
    "#loading training data\n",
    "df = pd.read_csv(\"train.csv\")\n",
    "print(df.shape)"
   ]
  },
  {
   "cell_type": "code",
   "execution_count": 3,
   "id": "4c330542-c8bb-48f0-81a7-9ec94296e19c",
   "metadata": {},
   "outputs": [
    {
     "data": {
      "text/html": [
       "<div>\n",
       "<style scoped>\n",
       "    .dataframe tbody tr th:only-of-type {\n",
       "        vertical-align: middle;\n",
       "    }\n",
       "\n",
       "    .dataframe tbody tr th {\n",
       "        vertical-align: top;\n",
       "    }\n",
       "\n",
       "    .dataframe thead th {\n",
       "        text-align: right;\n",
       "    }\n",
       "</style>\n",
       "<table border=\"1\" class=\"dataframe\">\n",
       "  <thead>\n",
       "    <tr style=\"text-align: right;\">\n",
       "      <th></th>\n",
       "      <th>label</th>\n",
       "      <th>pixel0</th>\n",
       "      <th>pixel1</th>\n",
       "      <th>pixel2</th>\n",
       "      <th>pixel3</th>\n",
       "      <th>pixel4</th>\n",
       "      <th>pixel5</th>\n",
       "      <th>pixel6</th>\n",
       "      <th>pixel7</th>\n",
       "      <th>pixel8</th>\n",
       "      <th>...</th>\n",
       "      <th>pixel774</th>\n",
       "      <th>pixel775</th>\n",
       "      <th>pixel776</th>\n",
       "      <th>pixel777</th>\n",
       "      <th>pixel778</th>\n",
       "      <th>pixel779</th>\n",
       "      <th>pixel780</th>\n",
       "      <th>pixel781</th>\n",
       "      <th>pixel782</th>\n",
       "      <th>pixel783</th>\n",
       "    </tr>\n",
       "  </thead>\n",
       "  <tbody>\n",
       "    <tr>\n",
       "      <th>0</th>\n",
       "      <td>1</td>\n",
       "      <td>0</td>\n",
       "      <td>0</td>\n",
       "      <td>0</td>\n",
       "      <td>0</td>\n",
       "      <td>0</td>\n",
       "      <td>0</td>\n",
       "      <td>0</td>\n",
       "      <td>0</td>\n",
       "      <td>0</td>\n",
       "      <td>...</td>\n",
       "      <td>0</td>\n",
       "      <td>0</td>\n",
       "      <td>0</td>\n",
       "      <td>0</td>\n",
       "      <td>0</td>\n",
       "      <td>0</td>\n",
       "      <td>0</td>\n",
       "      <td>0</td>\n",
       "      <td>0</td>\n",
       "      <td>0</td>\n",
       "    </tr>\n",
       "    <tr>\n",
       "      <th>1</th>\n",
       "      <td>0</td>\n",
       "      <td>0</td>\n",
       "      <td>0</td>\n",
       "      <td>0</td>\n",
       "      <td>0</td>\n",
       "      <td>0</td>\n",
       "      <td>0</td>\n",
       "      <td>0</td>\n",
       "      <td>0</td>\n",
       "      <td>0</td>\n",
       "      <td>...</td>\n",
       "      <td>0</td>\n",
       "      <td>0</td>\n",
       "      <td>0</td>\n",
       "      <td>0</td>\n",
       "      <td>0</td>\n",
       "      <td>0</td>\n",
       "      <td>0</td>\n",
       "      <td>0</td>\n",
       "      <td>0</td>\n",
       "      <td>0</td>\n",
       "    </tr>\n",
       "    <tr>\n",
       "      <th>2</th>\n",
       "      <td>1</td>\n",
       "      <td>0</td>\n",
       "      <td>0</td>\n",
       "      <td>0</td>\n",
       "      <td>0</td>\n",
       "      <td>0</td>\n",
       "      <td>0</td>\n",
       "      <td>0</td>\n",
       "      <td>0</td>\n",
       "      <td>0</td>\n",
       "      <td>...</td>\n",
       "      <td>0</td>\n",
       "      <td>0</td>\n",
       "      <td>0</td>\n",
       "      <td>0</td>\n",
       "      <td>0</td>\n",
       "      <td>0</td>\n",
       "      <td>0</td>\n",
       "      <td>0</td>\n",
       "      <td>0</td>\n",
       "      <td>0</td>\n",
       "    </tr>\n",
       "    <tr>\n",
       "      <th>3</th>\n",
       "      <td>4</td>\n",
       "      <td>0</td>\n",
       "      <td>0</td>\n",
       "      <td>0</td>\n",
       "      <td>0</td>\n",
       "      <td>0</td>\n",
       "      <td>0</td>\n",
       "      <td>0</td>\n",
       "      <td>0</td>\n",
       "      <td>0</td>\n",
       "      <td>...</td>\n",
       "      <td>0</td>\n",
       "      <td>0</td>\n",
       "      <td>0</td>\n",
       "      <td>0</td>\n",
       "      <td>0</td>\n",
       "      <td>0</td>\n",
       "      <td>0</td>\n",
       "      <td>0</td>\n",
       "      <td>0</td>\n",
       "      <td>0</td>\n",
       "    </tr>\n",
       "    <tr>\n",
       "      <th>4</th>\n",
       "      <td>0</td>\n",
       "      <td>0</td>\n",
       "      <td>0</td>\n",
       "      <td>0</td>\n",
       "      <td>0</td>\n",
       "      <td>0</td>\n",
       "      <td>0</td>\n",
       "      <td>0</td>\n",
       "      <td>0</td>\n",
       "      <td>0</td>\n",
       "      <td>...</td>\n",
       "      <td>0</td>\n",
       "      <td>0</td>\n",
       "      <td>0</td>\n",
       "      <td>0</td>\n",
       "      <td>0</td>\n",
       "      <td>0</td>\n",
       "      <td>0</td>\n",
       "      <td>0</td>\n",
       "      <td>0</td>\n",
       "      <td>0</td>\n",
       "    </tr>\n",
       "  </tbody>\n",
       "</table>\n",
       "<p>5 rows × 785 columns</p>\n",
       "</div>"
      ],
      "text/plain": [
       "   label  pixel0  pixel1  pixel2  pixel3  pixel4  pixel5  pixel6  pixel7  \\\n",
       "0      1       0       0       0       0       0       0       0       0   \n",
       "1      0       0       0       0       0       0       0       0       0   \n",
       "2      1       0       0       0       0       0       0       0       0   \n",
       "3      4       0       0       0       0       0       0       0       0   \n",
       "4      0       0       0       0       0       0       0       0       0   \n",
       "\n",
       "   pixel8  ...  pixel774  pixel775  pixel776  pixel777  pixel778  pixel779  \\\n",
       "0       0  ...         0         0         0         0         0         0   \n",
       "1       0  ...         0         0         0         0         0         0   \n",
       "2       0  ...         0         0         0         0         0         0   \n",
       "3       0  ...         0         0         0         0         0         0   \n",
       "4       0  ...         0         0         0         0         0         0   \n",
       "\n",
       "   pixel780  pixel781  pixel782  pixel783  \n",
       "0         0         0         0         0  \n",
       "1         0         0         0         0  \n",
       "2         0         0         0         0  \n",
       "3         0         0         0         0  \n",
       "4         0         0         0         0  \n",
       "\n",
       "[5 rows x 785 columns]"
      ]
     },
     "execution_count": 3,
     "metadata": {},
     "output_type": "execute_result"
    }
   ],
   "source": [
    "df.head()"
   ]
  },
  {
   "cell_type": "code",
   "execution_count": 4,
   "id": "6e19f034-e5dc-413b-818d-1e3aa88e7b72",
   "metadata": {},
   "outputs": [
    {
     "data": {
      "text/plain": [
       "(28000, 784)"
      ]
     },
     "execution_count": 4,
     "metadata": {},
     "output_type": "execute_result"
    }
   ],
   "source": [
    "#loading test data\n",
    "df_test = pd.read_csv(\"test.csv\")\n",
    "df_test.shape"
   ]
  },
  {
   "cell_type": "code",
   "execution_count": 5,
   "id": "b6923af7-b5d6-45ea-b8d6-ced10938e9c6",
   "metadata": {},
   "outputs": [
    {
     "data": {
      "text/html": [
       "<div>\n",
       "<style scoped>\n",
       "    .dataframe tbody tr th:only-of-type {\n",
       "        vertical-align: middle;\n",
       "    }\n",
       "\n",
       "    .dataframe tbody tr th {\n",
       "        vertical-align: top;\n",
       "    }\n",
       "\n",
       "    .dataframe thead th {\n",
       "        text-align: right;\n",
       "    }\n",
       "</style>\n",
       "<table border=\"1\" class=\"dataframe\">\n",
       "  <thead>\n",
       "    <tr style=\"text-align: right;\">\n",
       "      <th></th>\n",
       "      <th>pixel0</th>\n",
       "      <th>pixel1</th>\n",
       "      <th>pixel2</th>\n",
       "      <th>pixel3</th>\n",
       "      <th>pixel4</th>\n",
       "      <th>pixel5</th>\n",
       "      <th>pixel6</th>\n",
       "      <th>pixel7</th>\n",
       "      <th>pixel8</th>\n",
       "      <th>pixel9</th>\n",
       "      <th>...</th>\n",
       "      <th>pixel774</th>\n",
       "      <th>pixel775</th>\n",
       "      <th>pixel776</th>\n",
       "      <th>pixel777</th>\n",
       "      <th>pixel778</th>\n",
       "      <th>pixel779</th>\n",
       "      <th>pixel780</th>\n",
       "      <th>pixel781</th>\n",
       "      <th>pixel782</th>\n",
       "      <th>pixel783</th>\n",
       "    </tr>\n",
       "  </thead>\n",
       "  <tbody>\n",
       "    <tr>\n",
       "      <th>0</th>\n",
       "      <td>0</td>\n",
       "      <td>0</td>\n",
       "      <td>0</td>\n",
       "      <td>0</td>\n",
       "      <td>0</td>\n",
       "      <td>0</td>\n",
       "      <td>0</td>\n",
       "      <td>0</td>\n",
       "      <td>0</td>\n",
       "      <td>0</td>\n",
       "      <td>...</td>\n",
       "      <td>0</td>\n",
       "      <td>0</td>\n",
       "      <td>0</td>\n",
       "      <td>0</td>\n",
       "      <td>0</td>\n",
       "      <td>0</td>\n",
       "      <td>0</td>\n",
       "      <td>0</td>\n",
       "      <td>0</td>\n",
       "      <td>0</td>\n",
       "    </tr>\n",
       "    <tr>\n",
       "      <th>1</th>\n",
       "      <td>0</td>\n",
       "      <td>0</td>\n",
       "      <td>0</td>\n",
       "      <td>0</td>\n",
       "      <td>0</td>\n",
       "      <td>0</td>\n",
       "      <td>0</td>\n",
       "      <td>0</td>\n",
       "      <td>0</td>\n",
       "      <td>0</td>\n",
       "      <td>...</td>\n",
       "      <td>0</td>\n",
       "      <td>0</td>\n",
       "      <td>0</td>\n",
       "      <td>0</td>\n",
       "      <td>0</td>\n",
       "      <td>0</td>\n",
       "      <td>0</td>\n",
       "      <td>0</td>\n",
       "      <td>0</td>\n",
       "      <td>0</td>\n",
       "    </tr>\n",
       "    <tr>\n",
       "      <th>2</th>\n",
       "      <td>0</td>\n",
       "      <td>0</td>\n",
       "      <td>0</td>\n",
       "      <td>0</td>\n",
       "      <td>0</td>\n",
       "      <td>0</td>\n",
       "      <td>0</td>\n",
       "      <td>0</td>\n",
       "      <td>0</td>\n",
       "      <td>0</td>\n",
       "      <td>...</td>\n",
       "      <td>0</td>\n",
       "      <td>0</td>\n",
       "      <td>0</td>\n",
       "      <td>0</td>\n",
       "      <td>0</td>\n",
       "      <td>0</td>\n",
       "      <td>0</td>\n",
       "      <td>0</td>\n",
       "      <td>0</td>\n",
       "      <td>0</td>\n",
       "    </tr>\n",
       "    <tr>\n",
       "      <th>3</th>\n",
       "      <td>0</td>\n",
       "      <td>0</td>\n",
       "      <td>0</td>\n",
       "      <td>0</td>\n",
       "      <td>0</td>\n",
       "      <td>0</td>\n",
       "      <td>0</td>\n",
       "      <td>0</td>\n",
       "      <td>0</td>\n",
       "      <td>0</td>\n",
       "      <td>...</td>\n",
       "      <td>0</td>\n",
       "      <td>0</td>\n",
       "      <td>0</td>\n",
       "      <td>0</td>\n",
       "      <td>0</td>\n",
       "      <td>0</td>\n",
       "      <td>0</td>\n",
       "      <td>0</td>\n",
       "      <td>0</td>\n",
       "      <td>0</td>\n",
       "    </tr>\n",
       "    <tr>\n",
       "      <th>4</th>\n",
       "      <td>0</td>\n",
       "      <td>0</td>\n",
       "      <td>0</td>\n",
       "      <td>0</td>\n",
       "      <td>0</td>\n",
       "      <td>0</td>\n",
       "      <td>0</td>\n",
       "      <td>0</td>\n",
       "      <td>0</td>\n",
       "      <td>0</td>\n",
       "      <td>...</td>\n",
       "      <td>0</td>\n",
       "      <td>0</td>\n",
       "      <td>0</td>\n",
       "      <td>0</td>\n",
       "      <td>0</td>\n",
       "      <td>0</td>\n",
       "      <td>0</td>\n",
       "      <td>0</td>\n",
       "      <td>0</td>\n",
       "      <td>0</td>\n",
       "    </tr>\n",
       "  </tbody>\n",
       "</table>\n",
       "<p>5 rows × 784 columns</p>\n",
       "</div>"
      ],
      "text/plain": [
       "   pixel0  pixel1  pixel2  pixel3  pixel4  pixel5  pixel6  pixel7  pixel8  \\\n",
       "0       0       0       0       0       0       0       0       0       0   \n",
       "1       0       0       0       0       0       0       0       0       0   \n",
       "2       0       0       0       0       0       0       0       0       0   \n",
       "3       0       0       0       0       0       0       0       0       0   \n",
       "4       0       0       0       0       0       0       0       0       0   \n",
       "\n",
       "   pixel9  ...  pixel774  pixel775  pixel776  pixel777  pixel778  pixel779  \\\n",
       "0       0  ...         0         0         0         0         0         0   \n",
       "1       0  ...         0         0         0         0         0         0   \n",
       "2       0  ...         0         0         0         0         0         0   \n",
       "3       0  ...         0         0         0         0         0         0   \n",
       "4       0  ...         0         0         0         0         0         0   \n",
       "\n",
       "   pixel780  pixel781  pixel782  pixel783  \n",
       "0         0         0         0         0  \n",
       "1         0         0         0         0  \n",
       "2         0         0         0         0  \n",
       "3         0         0         0         0  \n",
       "4         0         0         0         0  \n",
       "\n",
       "[5 rows x 784 columns]"
      ]
     },
     "execution_count": 5,
     "metadata": {},
     "output_type": "execute_result"
    }
   ],
   "source": [
    "df_test.head()"
   ]
  },
  {
   "cell_type": "markdown",
   "id": "6a1194bc-4c6b-4c15-bc07-d75fcbcf6a1d",
   "metadata": {},
   "source": [
    "### Management Question"
   ]
  },
  {
   "cell_type": "markdown",
   "id": "ea935c63-76d9-402f-972f-c88192406883",
   "metadata": {},
   "source": [
    "We would like to create a model that can accurately identify handwritten digits.  There are a number of business applications for being able to digitize handwritten numbers.  This includes bank wanting to have software that can automatically read amounts from a check image. "
   ]
  },
  {
   "cell_type": "markdown",
   "id": "390d1fce",
   "metadata": {},
   "source": [
    "### Standardizing the Independent Variables"
   ]
  },
  {
   "cell_type": "markdown",
   "id": "8a3ba935",
   "metadata": {},
   "source": [
    "We are going to do a PCA.  PCA is effected by scale so we standardize the data here and will use the standarized data throughout the entirity of the analysis"
   ]
  },
  {
   "cell_type": "code",
   "execution_count": 6,
   "id": "a5bd845a",
   "metadata": {},
   "outputs": [],
   "source": [
    "#merge datasets together and then scale\n",
    "df_temp1 = df.drop(columns=['label'])\n",
    "df_temp1['source'] = 'train'\n",
    "df_temp2 = df_test\n",
    "df_temp2['source'] = 'test'\n",
    "join_list = [df_temp1,df_temp2]\n",
    "df_comb = pd.concat(join_list)\n",
    "df_comb.shape\n",
    "source = df_comb['source'].to_list()\n",
    "df_comb2 = df_comb.drop(columns=['source'])\n",
    "del df_temp1, df_temp2, df_comb"
   ]
  },
  {
   "cell_type": "code",
   "execution_count": 7,
   "id": "d9755c08",
   "metadata": {},
   "outputs": [
    {
     "name": "stdout",
     "output_type": "stream",
     "text": [
      "(70000, 784)\n"
     ]
    },
    {
     "data": {
      "text/html": [
       "<div>\n",
       "<style scoped>\n",
       "    .dataframe tbody tr th:only-of-type {\n",
       "        vertical-align: middle;\n",
       "    }\n",
       "\n",
       "    .dataframe tbody tr th {\n",
       "        vertical-align: top;\n",
       "    }\n",
       "\n",
       "    .dataframe thead th {\n",
       "        text-align: right;\n",
       "    }\n",
       "</style>\n",
       "<table border=\"1\" class=\"dataframe\">\n",
       "  <thead>\n",
       "    <tr style=\"text-align: right;\">\n",
       "      <th></th>\n",
       "      <th>pixel0</th>\n",
       "      <th>pixel1</th>\n",
       "      <th>pixel2</th>\n",
       "      <th>pixel3</th>\n",
       "      <th>pixel4</th>\n",
       "      <th>pixel5</th>\n",
       "      <th>pixel6</th>\n",
       "      <th>pixel7</th>\n",
       "      <th>pixel8</th>\n",
       "      <th>pixel9</th>\n",
       "      <th>...</th>\n",
       "      <th>pixel774</th>\n",
       "      <th>pixel775</th>\n",
       "      <th>pixel776</th>\n",
       "      <th>pixel777</th>\n",
       "      <th>pixel778</th>\n",
       "      <th>pixel779</th>\n",
       "      <th>pixel780</th>\n",
       "      <th>pixel781</th>\n",
       "      <th>pixel782</th>\n",
       "      <th>pixel783</th>\n",
       "    </tr>\n",
       "  </thead>\n",
       "  <tbody>\n",
       "    <tr>\n",
       "      <th>count</th>\n",
       "      <td>70000.0</td>\n",
       "      <td>70000.0</td>\n",
       "      <td>70000.0</td>\n",
       "      <td>70000.0</td>\n",
       "      <td>70000.0</td>\n",
       "      <td>70000.0</td>\n",
       "      <td>70000.0</td>\n",
       "      <td>70000.0</td>\n",
       "      <td>70000.0</td>\n",
       "      <td>70000.0</td>\n",
       "      <td>...</td>\n",
       "      <td>7.000000e+04</td>\n",
       "      <td>7.000000e+04</td>\n",
       "      <td>7.000000e+04</td>\n",
       "      <td>7.000000e+04</td>\n",
       "      <td>7.000000e+04</td>\n",
       "      <td>7.000000e+04</td>\n",
       "      <td>70000.0</td>\n",
       "      <td>70000.0</td>\n",
       "      <td>70000.0</td>\n",
       "      <td>70000.0</td>\n",
       "    </tr>\n",
       "    <tr>\n",
       "      <th>mean</th>\n",
       "      <td>0.0</td>\n",
       "      <td>0.0</td>\n",
       "      <td>0.0</td>\n",
       "      <td>0.0</td>\n",
       "      <td>0.0</td>\n",
       "      <td>0.0</td>\n",
       "      <td>0.0</td>\n",
       "      <td>0.0</td>\n",
       "      <td>0.0</td>\n",
       "      <td>0.0</td>\n",
       "      <td>...</td>\n",
       "      <td>-3.823623e-15</td>\n",
       "      <td>-1.137216e-15</td>\n",
       "      <td>2.825315e-15</td>\n",
       "      <td>-3.964385e-16</td>\n",
       "      <td>1.831964e-15</td>\n",
       "      <td>1.212366e-15</td>\n",
       "      <td>0.0</td>\n",
       "      <td>0.0</td>\n",
       "      <td>0.0</td>\n",
       "      <td>0.0</td>\n",
       "    </tr>\n",
       "    <tr>\n",
       "      <th>std</th>\n",
       "      <td>0.0</td>\n",
       "      <td>0.0</td>\n",
       "      <td>0.0</td>\n",
       "      <td>0.0</td>\n",
       "      <td>0.0</td>\n",
       "      <td>0.0</td>\n",
       "      <td>0.0</td>\n",
       "      <td>0.0</td>\n",
       "      <td>0.0</td>\n",
       "      <td>0.0</td>\n",
       "      <td>...</td>\n",
       "      <td>1.000007e+00</td>\n",
       "      <td>1.000007e+00</td>\n",
       "      <td>1.000007e+00</td>\n",
       "      <td>1.000007e+00</td>\n",
       "      <td>1.000007e+00</td>\n",
       "      <td>1.000007e+00</td>\n",
       "      <td>0.0</td>\n",
       "      <td>0.0</td>\n",
       "      <td>0.0</td>\n",
       "      <td>0.0</td>\n",
       "    </tr>\n",
       "    <tr>\n",
       "      <th>min</th>\n",
       "      <td>0.0</td>\n",
       "      <td>0.0</td>\n",
       "      <td>0.0</td>\n",
       "      <td>0.0</td>\n",
       "      <td>0.0</td>\n",
       "      <td>0.0</td>\n",
       "      <td>0.0</td>\n",
       "      <td>0.0</td>\n",
       "      <td>0.0</td>\n",
       "      <td>0.0</td>\n",
       "      <td>...</td>\n",
       "      <td>-3.295091e-02</td>\n",
       "      <td>-2.338733e-02</td>\n",
       "      <td>-1.675050e-02</td>\n",
       "      <td>-1.063784e-02</td>\n",
       "      <td>-8.339086e-03</td>\n",
       "      <td>-5.342334e-03</td>\n",
       "      <td>0.0</td>\n",
       "      <td>0.0</td>\n",
       "      <td>0.0</td>\n",
       "      <td>0.0</td>\n",
       "    </tr>\n",
       "    <tr>\n",
       "      <th>25%</th>\n",
       "      <td>0.0</td>\n",
       "      <td>0.0</td>\n",
       "      <td>0.0</td>\n",
       "      <td>0.0</td>\n",
       "      <td>0.0</td>\n",
       "      <td>0.0</td>\n",
       "      <td>0.0</td>\n",
       "      <td>0.0</td>\n",
       "      <td>0.0</td>\n",
       "      <td>0.0</td>\n",
       "      <td>...</td>\n",
       "      <td>-3.295091e-02</td>\n",
       "      <td>-2.338733e-02</td>\n",
       "      <td>-1.675050e-02</td>\n",
       "      <td>-1.063784e-02</td>\n",
       "      <td>-8.339086e-03</td>\n",
       "      <td>-5.342334e-03</td>\n",
       "      <td>0.0</td>\n",
       "      <td>0.0</td>\n",
       "      <td>0.0</td>\n",
       "      <td>0.0</td>\n",
       "    </tr>\n",
       "    <tr>\n",
       "      <th>50%</th>\n",
       "      <td>0.0</td>\n",
       "      <td>0.0</td>\n",
       "      <td>0.0</td>\n",
       "      <td>0.0</td>\n",
       "      <td>0.0</td>\n",
       "      <td>0.0</td>\n",
       "      <td>0.0</td>\n",
       "      <td>0.0</td>\n",
       "      <td>0.0</td>\n",
       "      <td>0.0</td>\n",
       "      <td>...</td>\n",
       "      <td>-3.295091e-02</td>\n",
       "      <td>-2.338733e-02</td>\n",
       "      <td>-1.675050e-02</td>\n",
       "      <td>-1.063784e-02</td>\n",
       "      <td>-8.339086e-03</td>\n",
       "      <td>-5.342334e-03</td>\n",
       "      <td>0.0</td>\n",
       "      <td>0.0</td>\n",
       "      <td>0.0</td>\n",
       "      <td>0.0</td>\n",
       "    </tr>\n",
       "    <tr>\n",
       "      <th>75%</th>\n",
       "      <td>0.0</td>\n",
       "      <td>0.0</td>\n",
       "      <td>0.0</td>\n",
       "      <td>0.0</td>\n",
       "      <td>0.0</td>\n",
       "      <td>0.0</td>\n",
       "      <td>0.0</td>\n",
       "      <td>0.0</td>\n",
       "      <td>0.0</td>\n",
       "      <td>0.0</td>\n",
       "      <td>...</td>\n",
       "      <td>-3.295091e-02</td>\n",
       "      <td>-2.338733e-02</td>\n",
       "      <td>-1.675050e-02</td>\n",
       "      <td>-1.063784e-02</td>\n",
       "      <td>-8.339086e-03</td>\n",
       "      <td>-5.342334e-03</td>\n",
       "      <td>0.0</td>\n",
       "      <td>0.0</td>\n",
       "      <td>0.0</td>\n",
       "      <td>0.0</td>\n",
       "    </tr>\n",
       "    <tr>\n",
       "      <th>max</th>\n",
       "      <td>0.0</td>\n",
       "      <td>0.0</td>\n",
       "      <td>0.0</td>\n",
       "      <td>0.0</td>\n",
       "      <td>0.0</td>\n",
       "      <td>0.0</td>\n",
       "      <td>0.0</td>\n",
       "      <td>0.0</td>\n",
       "      <td>0.0</td>\n",
       "      <td>0.0</td>\n",
       "      <td>...</td>\n",
       "      <td>4.236282e+01</td>\n",
       "      <td>5.965323e+01</td>\n",
       "      <td>9.086908e+01</td>\n",
       "      <td>1.619808e+02</td>\n",
       "      <td>1.634635e+02</td>\n",
       "      <td>1.932091e+02</td>\n",
       "      <td>0.0</td>\n",
       "      <td>0.0</td>\n",
       "      <td>0.0</td>\n",
       "      <td>0.0</td>\n",
       "    </tr>\n",
       "  </tbody>\n",
       "</table>\n",
       "<p>8 rows × 784 columns</p>\n",
       "</div>"
      ],
      "text/plain": [
       "        pixel0   pixel1   pixel2   pixel3   pixel4   pixel5   pixel6   pixel7  \\\n",
       "count  70000.0  70000.0  70000.0  70000.0  70000.0  70000.0  70000.0  70000.0   \n",
       "mean       0.0      0.0      0.0      0.0      0.0      0.0      0.0      0.0   \n",
       "std        0.0      0.0      0.0      0.0      0.0      0.0      0.0      0.0   \n",
       "min        0.0      0.0      0.0      0.0      0.0      0.0      0.0      0.0   \n",
       "25%        0.0      0.0      0.0      0.0      0.0      0.0      0.0      0.0   \n",
       "50%        0.0      0.0      0.0      0.0      0.0      0.0      0.0      0.0   \n",
       "75%        0.0      0.0      0.0      0.0      0.0      0.0      0.0      0.0   \n",
       "max        0.0      0.0      0.0      0.0      0.0      0.0      0.0      0.0   \n",
       "\n",
       "        pixel8   pixel9  ...      pixel774      pixel775      pixel776  \\\n",
       "count  70000.0  70000.0  ...  7.000000e+04  7.000000e+04  7.000000e+04   \n",
       "mean       0.0      0.0  ... -3.823623e-15 -1.137216e-15  2.825315e-15   \n",
       "std        0.0      0.0  ...  1.000007e+00  1.000007e+00  1.000007e+00   \n",
       "min        0.0      0.0  ... -3.295091e-02 -2.338733e-02 -1.675050e-02   \n",
       "25%        0.0      0.0  ... -3.295091e-02 -2.338733e-02 -1.675050e-02   \n",
       "50%        0.0      0.0  ... -3.295091e-02 -2.338733e-02 -1.675050e-02   \n",
       "75%        0.0      0.0  ... -3.295091e-02 -2.338733e-02 -1.675050e-02   \n",
       "max        0.0      0.0  ...  4.236282e+01  5.965323e+01  9.086908e+01   \n",
       "\n",
       "           pixel777      pixel778      pixel779  pixel780  pixel781  pixel782  \\\n",
       "count  7.000000e+04  7.000000e+04  7.000000e+04   70000.0   70000.0   70000.0   \n",
       "mean  -3.964385e-16  1.831964e-15  1.212366e-15       0.0       0.0       0.0   \n",
       "std    1.000007e+00  1.000007e+00  1.000007e+00       0.0       0.0       0.0   \n",
       "min   -1.063784e-02 -8.339086e-03 -5.342334e-03       0.0       0.0       0.0   \n",
       "25%   -1.063784e-02 -8.339086e-03 -5.342334e-03       0.0       0.0       0.0   \n",
       "50%   -1.063784e-02 -8.339086e-03 -5.342334e-03       0.0       0.0       0.0   \n",
       "75%   -1.063784e-02 -8.339086e-03 -5.342334e-03       0.0       0.0       0.0   \n",
       "max    1.619808e+02  1.634635e+02  1.932091e+02       0.0       0.0       0.0   \n",
       "\n",
       "       pixel783  \n",
       "count   70000.0  \n",
       "mean        0.0  \n",
       "std         0.0  \n",
       "min         0.0  \n",
       "25%         0.0  \n",
       "50%         0.0  \n",
       "75%         0.0  \n",
       "max         0.0  \n",
       "\n",
       "[8 rows x 784 columns]"
      ]
     },
     "execution_count": 7,
     "metadata": {},
     "output_type": "execute_result"
    }
   ],
   "source": [
    "#apply scaling to joined test and train data\n",
    "col_list = df_comb2.columns\n",
    "scaler = StandardScaler()\n",
    "model2=scaler.fit(df_comb2)\n",
    "df_standard=model2.transform(df_comb2)\n",
    "df_standard = pd.DataFrame(df_standard,columns=col_list)\n",
    "print(df_standard.shape)\n",
    "df_standard.describe()"
   ]
  },
  {
   "cell_type": "code",
   "execution_count": 8,
   "id": "7f499448",
   "metadata": {},
   "outputs": [
    {
     "data": {
      "text/plain": [
       "(70000, 785)"
      ]
     },
     "execution_count": 8,
     "metadata": {},
     "output_type": "execute_result"
    }
   ],
   "source": [
    "df_standard['source'] = source\n",
    "df_standard.shape"
   ]
  },
  {
   "cell_type": "markdown",
   "id": "4d0cadef",
   "metadata": {},
   "source": [
    "### Experiement Flaw"
   ]
  },
  {
   "cell_type": "markdown",
   "id": "40304295",
   "metadata": {},
   "source": [
    "We should not be running our models on the full training data.  We apply a cross-validation approach.  I apply a 80/20 holdout approach below"
   ]
  },
  {
   "cell_type": "markdown",
   "id": "f36da996-c912-40b5-b59a-97ca101a0170",
   "metadata": {},
   "source": [
    "### Training Datasetup"
   ]
  },
  {
   "cell_type": "code",
   "execution_count": 9,
   "id": "6d02e287-0c74-4ca3-a0a6-82a719bfe8f0",
   "metadata": {},
   "outputs": [
    {
     "name": "stdout",
     "output_type": "stream",
     "text": [
      "(42000, 784)\n",
      "(42000,)\n"
     ]
    }
   ],
   "source": [
    "#splitting the dataframe into explanatory and dependent variables\n",
    "X = df_standard[df_standard['source'] == 'train']\n",
    "X = X.drop(columns=['source'])\n",
    "print(X.shape)\n",
    "y = df['label']\n",
    "print(y.shape)"
   ]
  },
  {
   "cell_type": "code",
   "execution_count": 10,
   "id": "cdba1610-2a8c-4548-8dfc-7b4695651153",
   "metadata": {},
   "outputs": [
    {
     "name": "stdout",
     "output_type": "stream",
     "text": [
      "(33600, 784)\n",
      "(8400, 784)\n",
      "(33600,)\n",
      "(8400,)\n"
     ]
    }
   ],
   "source": [
    "#the assignment doesnt ask us to use a cross-validation approach, but I am going to anyway\n",
    "#I don't want to have to submit every model i produce to Kaggle to evaluate.  As a result, I am using a cross-validation approach so i can compare different models on my own\n",
    "X_train, X_ctest, y_train, y_ctest = train_test_split(X, y, test_size=0.2, random_state=0)\n",
    "print(X_train.shape)\n",
    "print(X_ctest.shape)\n",
    "print(y_train.shape)\n",
    "print(y_ctest.shape)"
   ]
  },
  {
   "cell_type": "code",
   "execution_count": 11,
   "id": "913af52d",
   "metadata": {},
   "outputs": [],
   "source": [
    "#and while we are at it also outputing the scaled test data\n",
    "df_test = df_standard[df_standard['source'] == 'test']\n",
    "df_test = df_test.drop(columns=['source'])"
   ]
  },
  {
   "cell_type": "markdown",
   "id": "ec5dee9d-0c3c-46cc-958b-5bedd0c57301",
   "metadata": {},
   "source": [
    "### Accuarcy Function"
   ]
  },
  {
   "cell_type": "code",
   "execution_count": 12,
   "id": "160a7f11-1c64-4127-ba31-57f65d2633a6",
   "metadata": {},
   "outputs": [],
   "source": [
    "#bulding a function to evaluate model accuracy\n",
    "def score(predict,actual):\n",
    "    return sum(predict == actual) / len(actual)"
   ]
  },
  {
   "cell_type": "markdown",
   "id": "71b46943-03d6-474e-ac6c-648ea9ae2243",
   "metadata": {},
   "source": [
    "### Random Forest"
   ]
  },
  {
   "cell_type": "code",
   "execution_count": 13,
   "id": "c6afb0d9-adef-4ac7-89bf-27497ad2fbaf",
   "metadata": {},
   "outputs": [],
   "source": [
    "#training random forest with default hyperparameters\n",
    "rf = RandomForestClassifier()\n",
    "rf_start=datetime.datetime.now()\n",
    "rf.fit(X_train,y_train)\n",
    "rf_end=datetime.datetime.now()"
   ]
  },
  {
   "cell_type": "code",
   "execution_count": 14,
   "id": "7cbd3a5f-5a85-4fba-a623-cef5fc6fc574",
   "metadata": {},
   "outputs": [
    {
     "name": "stdout",
     "output_type": "stream",
     "text": [
      "0:00:21.230343\n"
     ]
    }
   ],
   "source": [
    "#time to fit random forest model\n",
    "print(rf_end-rf_start)"
   ]
  },
  {
   "cell_type": "code",
   "execution_count": 15,
   "id": "d83fc2e9-7f1f-40b3-8936-b323ab692759",
   "metadata": {},
   "outputs": [
    {
     "data": {
      "text/plain": [
       "0.9651190476190477"
      ]
     },
     "execution_count": 15,
     "metadata": {},
     "output_type": "execute_result"
    }
   ],
   "source": [
    "#evaluate accuracy on holdout data\n",
    "rf_predict = rf.predict(X_ctest)\n",
    "score(rf_predict,y_ctest)"
   ]
  },
  {
   "cell_type": "markdown",
   "id": "12486fc8-f0df-466b-9a6b-b91dd41f3637",
   "metadata": {},
   "source": [
    "Random Forest with default assumptions accurately predicted 96% of the observations in the holdout data"
   ]
  },
  {
   "cell_type": "code",
   "execution_count": 16,
   "id": "7cd98b5f-dc07-4c9f-a4c4-51f9d5be241e",
   "metadata": {},
   "outputs": [
    {
     "data": {
      "text/html": [
       "<div>\n",
       "<style scoped>\n",
       "    .dataframe tbody tr th:only-of-type {\n",
       "        vertical-align: middle;\n",
       "    }\n",
       "\n",
       "    .dataframe tbody tr th {\n",
       "        vertical-align: top;\n",
       "    }\n",
       "\n",
       "    .dataframe thead th {\n",
       "        text-align: right;\n",
       "    }\n",
       "</style>\n",
       "<table border=\"1\" class=\"dataframe\">\n",
       "  <thead>\n",
       "    <tr style=\"text-align: right;\">\n",
       "      <th></th>\n",
       "      <th>ImageId</th>\n",
       "      <th>Label</th>\n",
       "    </tr>\n",
       "  </thead>\n",
       "  <tbody>\n",
       "    <tr>\n",
       "      <th>0</th>\n",
       "      <td>1</td>\n",
       "      <td>2</td>\n",
       "    </tr>\n",
       "    <tr>\n",
       "      <th>1</th>\n",
       "      <td>2</td>\n",
       "      <td>0</td>\n",
       "    </tr>\n",
       "    <tr>\n",
       "      <th>2</th>\n",
       "      <td>3</td>\n",
       "      <td>9</td>\n",
       "    </tr>\n",
       "    <tr>\n",
       "      <th>3</th>\n",
       "      <td>4</td>\n",
       "      <td>4</td>\n",
       "    </tr>\n",
       "    <tr>\n",
       "      <th>4</th>\n",
       "      <td>5</td>\n",
       "      <td>3</td>\n",
       "    </tr>\n",
       "  </tbody>\n",
       "</table>\n",
       "</div>"
      ],
      "text/plain": [
       "   ImageId  Label\n",
       "0        1      2\n",
       "1        2      0\n",
       "2        3      9\n",
       "3        4      4\n",
       "4        5      3"
      ]
     },
     "execution_count": 16,
     "metadata": {},
     "output_type": "execute_result"
    }
   ],
   "source": [
    "#generating a dataframe for kaggle submission\n",
    "rf_out = rf.predict(df_test)\n",
    "df_out = pd.DataFrame(data=rf_out,columns=['Label'])\n",
    "df_out['ImageId'] = df_out.index + 1\n",
    "df_out = df_out[['ImageId','Label']]\n",
    "df_out.head()"
   ]
  },
  {
   "cell_type": "code",
   "execution_count": 17,
   "id": "6500ce9d",
   "metadata": {},
   "outputs": [
    {
     "name": "stdout",
     "output_type": "stream",
     "text": [
      "(28000, 2)\n"
     ]
    }
   ],
   "source": [
    "#checking the shape of the dataframe and creating the csv \n",
    "print(df_out.shape)\n",
    "df_out.to_csv(\"RandomForest.csv\",index=False)"
   ]
  },
  {
   "attachments": {
    "image.png": {
     "image/png": "[encoded data removed]"
    }
   },
   "cell_type": "markdown",
   "id": "ae6b2281",
   "metadata": {},
   "source": [
    "![image.png](attachment:image.png)"
   ]
  },
  {
   "cell_type": "markdown",
   "id": "f0507368",
   "metadata": {},
   "source": [
    "### Principle Component Analysis"
   ]
  },
  {
   "cell_type": "code",
   "execution_count": 18,
   "id": "75a54712",
   "metadata": {},
   "outputs": [
    {
     "name": "stdout",
     "output_type": "stream",
     "text": [
      "(70000, 332)\n"
     ]
    }
   ],
   "source": [
    "#running pca on test + train data\n",
    "#recording time to run pca\n",
    "df_pca = df_standard.drop(columns=['source']) #we already have combined test + train that has been standardized: df_standard\n",
    "pca_start=datetime.datetime.now() #start timer\n",
    "pca = PCA(n_components=0.95) #retain 95% of varability\n",
    "pca_reduced = pca.fit_transform(df_pca)\n",
    "print(pca_reduced.shape)\n",
    "pca_end=datetime.datetime.now()"
   ]
  },
  {
   "cell_type": "code",
   "execution_count": 19,
   "id": "6653ec93",
   "metadata": {},
   "outputs": [
    {
     "name": "stdout",
     "output_type": "stream",
     "text": [
      "0:00:05.201944\n"
     ]
    }
   ],
   "source": [
    "#PCA time\n",
    "print(pca_end-pca_start)"
   ]
  },
  {
   "cell_type": "markdown",
   "id": "f8513b62",
   "metadata": {},
   "source": [
    "### Rebuilding Cross-validation datasets and Test Datasets on PCA database"
   ]
  },
  {
   "cell_type": "code",
   "execution_count": 20,
   "id": "8c516cb0",
   "metadata": {},
   "outputs": [
    {
     "name": "stdout",
     "output_type": "stream",
     "text": [
      "(70000, 333)\n"
     ]
    }
   ],
   "source": [
    "#add back to PCA data a source identifier\n",
    "pca = pd.DataFrame(data=pca_reduced)\n",
    "pca['source'] = source\n",
    "print(pca.shape)"
   ]
  },
  {
   "cell_type": "code",
   "execution_count": 21,
   "id": "a946b6b5",
   "metadata": {},
   "outputs": [
    {
     "data": {
      "text/plain": [
       "(42000, 332)"
      ]
     },
     "execution_count": 21,
     "metadata": {},
     "output_type": "execute_result"
    }
   ],
   "source": [
    "#build training dataset\n",
    "XC = pca[pca['source'] == 'train']\n",
    "XC = XC.drop(columns=['source'])\n",
    "XC.shape"
   ]
  },
  {
   "cell_type": "code",
   "execution_count": 22,
   "id": "08722441",
   "metadata": {},
   "outputs": [
    {
     "name": "stdout",
     "output_type": "stream",
     "text": [
      "(33600, 332)\n",
      "(8400, 332)\n",
      "(33600,)\n",
      "(8400,)\n"
     ]
    }
   ],
   "source": [
    "#build cross-validation pca data\n",
    "XP_train, XP_ctest, yp_train, yp_ctest = train_test_split(XC, y, test_size=0.2, random_state=0)\n",
    "print(XP_train.shape)\n",
    "print(XP_ctest.shape)\n",
    "print(yp_train.shape)\n",
    "print(yp_ctest.shape)"
   ]
  },
  {
   "cell_type": "code",
   "execution_count": 23,
   "id": "417b4bc8",
   "metadata": {},
   "outputs": [
    {
     "data": {
      "text/plain": [
       "(28000, 332)"
      ]
     },
     "execution_count": 23,
     "metadata": {},
     "output_type": "execute_result"
    }
   ],
   "source": [
    "#building the evaluation data\n",
    "pca_test = pca[pca['source'] == 'test']\n",
    "pca_test = pca_test.drop(columns=['source'])\n",
    "pca_test.shape"
   ]
  },
  {
   "cell_type": "markdown",
   "id": "6199114d",
   "metadata": {},
   "source": [
    "### Random Forest with PCA"
   ]
  },
  {
   "cell_type": "code",
   "execution_count": 24,
   "id": "b790a166",
   "metadata": {},
   "outputs": [],
   "source": [
    "#training random forest with default hyperparameters\n",
    "rf_pca = RandomForestClassifier()\n",
    "rf_pca_start=datetime.datetime.now()\n",
    "rf_pca.fit(XP_train,yp_train)\n",
    "rf_pca_end=datetime.datetime.now()"
   ]
  },
  {
   "cell_type": "code",
   "execution_count": 25,
   "id": "5715c778",
   "metadata": {},
   "outputs": [
    {
     "name": "stdout",
     "output_type": "stream",
     "text": [
      "0:00:57.733329\n"
     ]
    }
   ],
   "source": [
    "#time to fit random forest model\n",
    "print(rf_pca_end-rf_pca_start)"
   ]
  },
  {
   "cell_type": "code",
   "execution_count": 26,
   "id": "46011d5f",
   "metadata": {},
   "outputs": [
    {
     "data": {
      "text/plain": [
       "0.9271428571428572"
      ]
     },
     "execution_count": 26,
     "metadata": {},
     "output_type": "execute_result"
    }
   ],
   "source": [
    "#evaluate accuracy on holdout data\n",
    "rf_pca_predict = rf_pca.predict(XP_ctest)\n",
    "score(rf_pca_predict,yp_ctest)"
   ]
  },
  {
   "cell_type": "code",
   "execution_count": 27,
   "id": "3ad1a26d",
   "metadata": {},
   "outputs": [
    {
     "data": {
      "text/html": [
       "<div>\n",
       "<style scoped>\n",
       "    .dataframe tbody tr th:only-of-type {\n",
       "        vertical-align: middle;\n",
       "    }\n",
       "\n",
       "    .dataframe tbody tr th {\n",
       "        vertical-align: top;\n",
       "    }\n",
       "\n",
       "    .dataframe thead th {\n",
       "        text-align: right;\n",
       "    }\n",
       "</style>\n",
       "<table border=\"1\" class=\"dataframe\">\n",
       "  <thead>\n",
       "    <tr style=\"text-align: right;\">\n",
       "      <th></th>\n",
       "      <th>ImageId</th>\n",
       "      <th>Label</th>\n",
       "    </tr>\n",
       "  </thead>\n",
       "  <tbody>\n",
       "    <tr>\n",
       "      <th>0</th>\n",
       "      <td>1</td>\n",
       "      <td>2</td>\n",
       "    </tr>\n",
       "    <tr>\n",
       "      <th>1</th>\n",
       "      <td>2</td>\n",
       "      <td>0</td>\n",
       "    </tr>\n",
       "    <tr>\n",
       "      <th>2</th>\n",
       "      <td>3</td>\n",
       "      <td>4</td>\n",
       "    </tr>\n",
       "    <tr>\n",
       "      <th>3</th>\n",
       "      <td>4</td>\n",
       "      <td>4</td>\n",
       "    </tr>\n",
       "    <tr>\n",
       "      <th>4</th>\n",
       "      <td>5</td>\n",
       "      <td>3</td>\n",
       "    </tr>\n",
       "  </tbody>\n",
       "</table>\n",
       "</div>"
      ],
      "text/plain": [
       "   ImageId  Label\n",
       "0        1      2\n",
       "1        2      0\n",
       "2        3      4\n",
       "3        4      4\n",
       "4        5      3"
      ]
     },
     "execution_count": 27,
     "metadata": {},
     "output_type": "execute_result"
    }
   ],
   "source": [
    "#generating a dataframe for kaggle submission\n",
    "rf_pca_out = rf_pca.predict(pca_test)\n",
    "df_out_2 = pd.DataFrame(data=rf_pca_out,columns=['Label'])\n",
    "df_out_2['ImageId'] = df_out_2.index + 1\n",
    "df_out_2 = df_out_2[['ImageId','Label']]\n",
    "df_out_2.head()"
   ]
  },
  {
   "cell_type": "code",
   "execution_count": 28,
   "id": "212f978e",
   "metadata": {},
   "outputs": [
    {
     "name": "stdout",
     "output_type": "stream",
     "text": [
      "(28000, 2)\n"
     ]
    }
   ],
   "source": [
    "#checking the shape of the dataframe and creating the csv \n",
    "print(df_out_2.shape)\n",
    "df_out_2.to_csv(\"RandomForest_wPCA.csv\",index=False)"
   ]
  },
  {
   "attachments": {
    "image.png": {
     "image/png": "[encoded data removed]"
    }
   },
   "cell_type": "markdown",
   "id": "5ad80cd8",
   "metadata": {},
   "source": [
    "![image.png](attachment:image.png)"
   ]
  },
  {
   "cell_type": "markdown",
   "id": "a0432a6d",
   "metadata": {},
   "source": [
    "### K-Means Clustering"
   ]
  },
  {
   "cell_type": "code",
   "execution_count": 90,
   "id": "ba510f3d",
   "metadata": {},
   "outputs": [
    {
     "data": {
      "text/plain": [
       "KMeans(n_clusters=10)"
      ]
     },
     "execution_count": 90,
     "metadata": {},
     "output_type": "execute_result"
    }
   ],
   "source": [
    "#applying a k-means with 10 clusters \n",
    "n_digits = len(np.unique(y_train))\n",
    "km = KMeans(n_clusters=n_digits)\n",
    "km.fit(X_train)"
   ]
  },
  {
   "cell_type": "code",
   "execution_count": 104,
   "id": "8225547c",
   "metadata": {},
   "outputs": [],
   "source": [
    "#function to create label dictionary\n",
    "def retrieve_info(cluster_labels,y_train):\n",
    "    reference_labels = {}\n",
    "\n",
    "    for i in range(len(np.unique(km.labels_))):\n",
    "        index = np.where(cluster_labels == i,1,0)\n",
    "        num = np.bincount(y_train[index==1]).argmax()\n",
    "        reference_labels[i] = num\n",
    "        \n",
    "    return reference_labels"
   ]
  },
  {
   "cell_type": "code",
   "execution_count": 120,
   "id": "227fd8df",
   "metadata": {},
   "outputs": [
    {
     "name": "stdout",
     "output_type": "stream",
     "text": [
      "{0: 2, 1: 4, 2: 7, 3: 3, 4: 1, 5: 0, 6: 2, 7: 5, 8: 7, 9: 6}\n"
     ]
    }
   ],
   "source": [
    "#digit dictionary\n",
    "reference_labels = retrieve_info(km.labels_,y_train)\n",
    "dict = {}\n",
    "for i in reference_labels:\n",
    "    dict[i] = reference_labels[i]\n",
    "print(dict)"
   ]
  },
  {
   "cell_type": "code",
   "execution_count": 121,
   "id": "9b63f621",
   "metadata": {},
   "outputs": [],
   "source": [
    "#making prediction and labeling\n",
    "km_predict = km.predict(X_ctest)\n",
    "km_labeled_predict = np.vectorize(dict.get)(km_predict)"
   ]
  },
  {
   "cell_type": "code",
   "execution_count": 122,
   "id": "4c7a9e7c",
   "metadata": {},
   "outputs": [
    {
     "data": {
      "text/plain": [
       "0.5273809523809524"
      ]
     },
     "execution_count": 122,
     "metadata": {},
     "output_type": "execute_result"
    }
   ],
   "source": [
    "#evaluating accuracy\n",
    "score(km_labeled_predict,y_ctest)"
   ]
  },
  {
   "cell_type": "markdown",
   "id": "db111781",
   "metadata": {},
   "source": [
    "A pretty bad accruarcy to start.  We also observe from our label dictinary that no predictions are being made for the 8 and 9 digits.  We need to pre-parametrize the model and then re-run"
   ]
  },
  {
   "cell_type": "code",
   "execution_count": 123,
   "id": "42fc86b7",
   "metadata": {},
   "outputs": [
    {
     "name": "stdout",
     "output_type": "stream",
     "text": [
      "0.5282142857142857\n",
      "0.5919047619047619\n",
      "0.6798809523809524\n",
      "0.7323809523809524\n",
      "0.7645238095238095\n",
      "0.8210714285714286\n"
     ]
    }
   ],
   "source": [
    "cluster_number = [10,20,50,75,150,300]\n",
    "\n",
    "for i in cluster_number:\n",
    "    km = KMeans(n_clusters = i)\n",
    "    km.fit(X_train)\n",
    "\n",
    "    reference_labels = retrieve_info(km.labels_,y_train)\n",
    "    \n",
    "    dict = {}\n",
    "    for y in reference_labels:\n",
    "        dict[y] = reference_labels[y]\n",
    "    \n",
    "    km_predict = km.predict(X_ctest)\n",
    "    km_labeled_predict = np.vectorize(dict.get)(km_predict)\n",
    "    \n",
    "    print(score(km_labeled_predict,y_ctest))"
   ]
  },
  {
   "cell_type": "markdown",
   "id": "3080ef0f",
   "metadata": {},
   "source": [
    "I run 6 different k-means models each with an increasing number of nodes.  I fit each model to the training data.  I then make a prediction against our holdout data.  I then measure the accuracy on the holdout data.  We observe that as the number of nodes is increased the accuracy on the holdout data increases.  Given the improvement between 150 and 300 clusters, I run a second set of models testing larger number of clusters"
   ]
  },
  {
   "cell_type": "code",
   "execution_count": 124,
   "id": "0ebbd6b1",
   "metadata": {},
   "outputs": [
    {
     "name": "stdout",
     "output_type": "stream",
     "text": [
      "0.8123809523809524\n",
      "0.848452380952381\n",
      "0.8764285714285714\n"
     ]
    }
   ],
   "source": [
    "cluster_number = [300,500,1000]\n",
    "\n",
    "for i in cluster_number:\n",
    "    km = KMeans(n_clusters = i)\n",
    "    km.fit(X_train)\n",
    "\n",
    "    reference_labels = retrieve_info(km.labels_,y_train)\n",
    "    \n",
    "    dict = {}\n",
    "    for y in reference_labels:\n",
    "        dict[y] = reference_labels[y]\n",
    "    \n",
    "    km_predict = km.predict(X_ctest)\n",
    "    km_labeled_predict = np.vectorize(dict.get)(km_predict)\n",
    "    \n",
    "    print(score(km_labeled_predict,y_ctest))"
   ]
  },
  {
   "cell_type": "markdown",
   "id": "f975c8db",
   "metadata": {},
   "source": [
    "Accuracy continues to increase as the number of clusters is increased all the way up to 1000.  We should test models with more than 1000 clusters, but given compute constraints we accept 1000 nodes as our final model"
   ]
  },
  {
   "cell_type": "markdown",
   "id": "6caec43a",
   "metadata": {},
   "source": [
    "### K-Means Clustering - with 1000 Clusters"
   ]
  },
  {
   "cell_type": "code",
   "execution_count": 125,
   "id": "8ab2ab54",
   "metadata": {},
   "outputs": [],
   "source": [
    "km = KMeans(n_clusters = 1000)\n",
    "km.fit(X_train)\n",
    "\n",
    "reference_labels = retrieve_info(km.labels_,y_train)\n",
    "    \n",
    "dict = {}\n",
    "for y in reference_labels:\n",
    "    dict[y] = reference_labels[y]\n",
    "    \n",
    "km_predict = km.predict(X_ctest)\n",
    "km_labeled_predict = np.vectorize(dict.get)(km_predict)"
   ]
  },
  {
   "cell_type": "code",
   "execution_count": 129,
   "id": "9c9288a7",
   "metadata": {},
   "outputs": [],
   "source": [
    "km_predict = km.predict(df_test)\n",
    "km_labeled_predict = np.vectorize(dict.get)(km_predict)\n",
    "km_labeled_predict = np.vectorize(dict.get)(km_predict)"
   ]
  },
  {
   "cell_type": "code",
   "execution_count": 130,
   "id": "9d69fa94",
   "metadata": {},
   "outputs": [
    {
     "data": {
      "text/html": [
       "<div>\n",
       "<style scoped>\n",
       "    .dataframe tbody tr th:only-of-type {\n",
       "        vertical-align: middle;\n",
       "    }\n",
       "\n",
       "    .dataframe tbody tr th {\n",
       "        vertical-align: top;\n",
       "    }\n",
       "\n",
       "    .dataframe thead th {\n",
       "        text-align: right;\n",
       "    }\n",
       "</style>\n",
       "<table border=\"1\" class=\"dataframe\">\n",
       "  <thead>\n",
       "    <tr style=\"text-align: right;\">\n",
       "      <th></th>\n",
       "      <th>ImageId</th>\n",
       "      <th>Label</th>\n",
       "    </tr>\n",
       "  </thead>\n",
       "  <tbody>\n",
       "    <tr>\n",
       "      <th>0</th>\n",
       "      <td>1</td>\n",
       "      <td>2</td>\n",
       "    </tr>\n",
       "    <tr>\n",
       "      <th>1</th>\n",
       "      <td>2</td>\n",
       "      <td>0</td>\n",
       "    </tr>\n",
       "    <tr>\n",
       "      <th>2</th>\n",
       "      <td>3</td>\n",
       "      <td>7</td>\n",
       "    </tr>\n",
       "    <tr>\n",
       "      <th>3</th>\n",
       "      <td>4</td>\n",
       "      <td>9</td>\n",
       "    </tr>\n",
       "    <tr>\n",
       "      <th>4</th>\n",
       "      <td>5</td>\n",
       "      <td>3</td>\n",
       "    </tr>\n",
       "  </tbody>\n",
       "</table>\n",
       "</div>"
      ],
      "text/plain": [
       "   ImageId  Label\n",
       "0        1      2\n",
       "1        2      0\n",
       "2        3      7\n",
       "3        4      9\n",
       "4        5      3"
      ]
     },
     "execution_count": 130,
     "metadata": {},
     "output_type": "execute_result"
    }
   ],
   "source": [
    "#generating a dataframe for kaggle submission\n",
    "df_out_3 = pd.DataFrame(data=km_labeled_predict,columns=['Label'])\n",
    "df_out_3['ImageId'] = df_out_3.index + 1\n",
    "df_out_3 = df_out_3[['ImageId','Label']]\n",
    "df_out_3.head()"
   ]
  },
  {
   "cell_type": "code",
   "execution_count": 131,
   "id": "c0b3e198",
   "metadata": {},
   "outputs": [
    {
     "name": "stdout",
     "output_type": "stream",
     "text": [
      "(28000, 2)\n"
     ]
    }
   ],
   "source": [
    "#checking the shape of the dataframe and creating the csv \n",
    "print(df_out_3.shape)\n",
    "df_out_3.to_csv(\"Kmeans.csv\",index=False)"
   ]
  },
  {
   "attachments": {
    "image.png": {
     "image/png": "[encoded data removed]"
    }
   },
   "cell_type": "markdown",
   "id": "9ed477b1",
   "metadata": {},
   "source": [
    "![image.png](attachment:image.png)"
   ]
  }
 ],
 "metadata": {
  "kernelspec": {
   "display_name": "Python 3 (ipykernel)",
   "language": "python",
   "name": "python3"
  },
  "language_info": {
   "codemirror_mode": {
    "name": "ipython",
    "version": 3
   },
   "file_extension": ".py",
   "mimetype": "text/x-python",
   "name": "python",
   "nbconvert_exporter": "python",
   "pygments_lexer": "ipython3",
   "version": "3.9.7"
  }
 },
 "nbformat": 4,
 "nbformat_minor": 5
}
